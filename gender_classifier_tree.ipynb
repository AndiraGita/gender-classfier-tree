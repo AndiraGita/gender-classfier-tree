{
 "cells": [
  {
   "cell_type": "code",
   "execution_count": 5,
   "metadata": {},
   "outputs": [],
   "source": [
    "#classification using tree\n",
    "from sklearn import tree\n",
    "#other classifier\n",
    "from sklearn.svm import SVC\n",
    "from sklearn.naive_bayes import GaussianNB\n",
    "from sklearn.neighbors import KNeighborsClassifier"
   ]
  },
  {
   "cell_type": "code",
   "execution_count": 3,
   "metadata": {},
   "outputs": [
    {
     "name": "stdout",
     "output_type": "stream",
     "text": [
      "['female']\n"
     ]
    }
   ],
   "source": [
    "#dataset for [height, weight, shoe size]\n",
    "x = [[181,80,44],[177,70,43],[160,60,38],\n",
    "     [154,54,37],[166,65,40],[190,90,47],[175,64,39],[177,70,40],[159,55,37],\n",
    "    [177,75,42],[181,85,43]]\n",
    "\n",
    "y = ['male','female','female','female','male','male',\n",
    "     'male','female','male','female','male']"
   ]
  },
  {
   "cell_type": "code",
   "execution_count": null,
   "metadata": {},
   "outputs": [],
   "source": [
    "#prediction using decision tree\n",
    "clf = tree.DecisionTreeClassifier()\n",
    "\n",
    "clf = clf.fit(x,y)\n",
    "\n",
    "prediction = clf.predict([[190,70,43]])\n",
    "\n",
    "print(prediction)"
   ]
  },
  {
   "cell_type": "code",
   "execution_count": 6,
   "metadata": {},
   "outputs": [
    {
     "name": "stdout",
     "output_type": "stream",
     "text": [
      "['male']\n"
     ]
    }
   ],
   "source": [
    "#prediction using svm\n",
    "clf = SVC(kernel=\"linear\", C=0.025)\n",
    "\n",
    "clf = clf.fit(x,y)\n",
    "\n",
    "prediction = clf.predict([[190,70,43]])\n",
    "\n",
    "print(prediction)"
   ]
  },
  {
   "cell_type": "code",
   "execution_count": 8,
   "metadata": {},
   "outputs": [
    {
     "name": "stdout",
     "output_type": "stream",
     "text": [
      "['male']\n"
     ]
    }
   ],
   "source": [
    "#prediction using naive bayes\n",
    "clf = GaussianNB()\n",
    "\n",
    "clf = clf.fit(x,y)\n",
    "\n",
    "prediction = clf.predict([[190,70,43]])\n",
    "\n",
    "print(prediction)"
   ]
  },
  {
   "cell_type": "code",
   "execution_count": 9,
   "metadata": {},
   "outputs": [
    {
     "name": "stdout",
     "output_type": "stream",
     "text": [
      "['female']\n"
     ]
    }
   ],
   "source": [
    "#prediction using decision tree\n",
    "clf = KNeighborsClassifier(3)\n",
    "\n",
    "clf = clf.fit(x,y)\n",
    "\n",
    "prediction = clf.predict([[190,70,43]])\n",
    "\n",
    "print(prediction)"
   ]
  },
  {
   "cell_type": "code",
   "execution_count": null,
   "metadata": {},
   "outputs": [],
   "source": []
  }
 ],
 "metadata": {
  "kernelspec": {
   "display_name": "Python 3",
   "language": "python",
   "name": "python3"
  },
  "language_info": {
   "codemirror_mode": {
    "name": "ipython",
    "version": 3
   },
   "file_extension": ".py",
   "mimetype": "text/x-python",
   "name": "python",
   "nbconvert_exporter": "python",
   "pygments_lexer": "ipython3",
   "version": "3.6.4"
  }
 },
 "nbformat": 4,
 "nbformat_minor": 2
}
