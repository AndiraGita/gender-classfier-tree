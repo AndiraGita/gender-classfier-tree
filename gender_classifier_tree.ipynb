{
 "cells": [
  {
   "cell_type": "code",
   "execution_count": 1,
   "metadata": {},
   "outputs": [],
   "source": [
    "#classification using tree\n",
    "from sklearn import tree"
   ]
  },
  {
   "cell_type": "code",
   "execution_count": 3,
   "metadata": {},
   "outputs": [
    {
     "name": "stdout",
     "output_type": "stream",
     "text": [
      "['female']\n"
     ]
    }
   ],
   "source": [
    "#[height, weight, shoe size]\n",
    "x = [[181,80,44],[177,70,43],[160,60,38],\n",
    "     [154,54,37],[166,65,40],[190,90,47],[175,64,39],[177,70,40],[159,55,37],\n",
    "    [177,75,42],[181,85,43]]\n",
    "\n",
    "y = ['male','female','female','female','male','male',\n",
    "     'male','female','male','female','male']\n",
    "\n",
    "clf = tree.DecisionTreeClassifier()\n",
    "\n",
    "clf = clf.fit(x,y)\n",
    "\n",
    "prediction = clf.predict([[190,70,43]])\n",
    "\n",
    "print(prediction)"
   ]
  }
 ],
 "metadata": {
  "kernelspec": {
   "display_name": "Python 3",
   "language": "python",
   "name": "python3"
  },
  "language_info": {
   "codemirror_mode": {
    "name": "ipython",
    "version": 3
   },
   "file_extension": ".py",
   "mimetype": "text/x-python",
   "name": "python",
   "nbconvert_exporter": "python",
   "pygments_lexer": "ipython3",
   "version": "3.6.4"
  }
 },
 "nbformat": 4,
 "nbformat_minor": 2
}
